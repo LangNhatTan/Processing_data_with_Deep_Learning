{
 "cells": [
  {
   "cell_type": "code",
   "execution_count": 6,
   "id": "5617fd17",
   "metadata": {},
   "outputs": [],
   "source": [
    "import pandas as pd\n",
    "import numpy as np\n",
    "import matplotlib.pyplot as plt\n",
    "import seaborn as sns"
   ]
  },
  {
   "cell_type": "code",
   "execution_count": 3,
   "id": "16f7afd6",
   "metadata": {},
   "outputs": [
    {
     "data": {
      "text/html": [
       "<div>\n",
       "<style scoped>\n",
       "    .dataframe tbody tr th:only-of-type {\n",
       "        vertical-align: middle;\n",
       "    }\n",
       "\n",
       "    .dataframe tbody tr th {\n",
       "        vertical-align: top;\n",
       "    }\n",
       "\n",
       "    .dataframe thead th {\n",
       "        text-align: right;\n",
       "    }\n",
       "</style>\n",
       "<table border=\"1\" class=\"dataframe\">\n",
       "  <thead>\n",
       "    <tr style=\"text-align: right;\">\n",
       "      <th></th>\n",
       "      <th>Unnamed: 0</th>\n",
       "      <th>STT</th>\n",
       "      <th>T1</th>\n",
       "      <th>L1</th>\n",
       "      <th>H1</th>\n",
       "      <th>S1</th>\n",
       "      <th>V1</th>\n",
       "      <th>X1</th>\n",
       "      <th>D1</th>\n",
       "      <th>N1</th>\n",
       "      <th>...</th>\n",
       "      <th>TBM1</th>\n",
       "      <th>TBM2</th>\n",
       "      <th>TBM3</th>\n",
       "      <th>XL1</th>\n",
       "      <th>XL2</th>\n",
       "      <th>XL3</th>\n",
       "      <th>US_TBM1</th>\n",
       "      <th>US_TBM2</th>\n",
       "      <th>US_TBM3</th>\n",
       "      <th>KQXT</th>\n",
       "    </tr>\n",
       "  </thead>\n",
       "  <tbody>\n",
       "    <tr>\n",
       "      <th>0</th>\n",
       "      <td>0</td>\n",
       "      <td>1</td>\n",
       "      <td>7.2</td>\n",
       "      <td>7.3</td>\n",
       "      <td>6.3</td>\n",
       "      <td>7.3</td>\n",
       "      <td>7.0</td>\n",
       "      <td>7.9</td>\n",
       "      <td>7.3</td>\n",
       "      <td>5.5</td>\n",
       "      <td>...</td>\n",
       "      <td>7.00</td>\n",
       "      <td>7.54</td>\n",
       "      <td>7.06</td>\n",
       "      <td>K</td>\n",
       "      <td>K</td>\n",
       "      <td>K</td>\n",
       "      <td>2.80</td>\n",
       "      <td>3.02</td>\n",
       "      <td>2.82</td>\n",
       "      <td>0.0</td>\n",
       "    </tr>\n",
       "    <tr>\n",
       "      <th>1</th>\n",
       "      <td>1</td>\n",
       "      <td>2</td>\n",
       "      <td>5.4</td>\n",
       "      <td>3.9</td>\n",
       "      <td>3.9</td>\n",
       "      <td>4.0</td>\n",
       "      <td>5.4</td>\n",
       "      <td>5.4</td>\n",
       "      <td>5.3</td>\n",
       "      <td>2.8</td>\n",
       "      <td>...</td>\n",
       "      <td>4.69</td>\n",
       "      <td>5.47</td>\n",
       "      <td>4.70</td>\n",
       "      <td>Y</td>\n",
       "      <td>TB</td>\n",
       "      <td>Y</td>\n",
       "      <td>1.88</td>\n",
       "      <td>2.19</td>\n",
       "      <td>1.88</td>\n",
       "      <td>0.0</td>\n",
       "    </tr>\n",
       "    <tr>\n",
       "      <th>2</th>\n",
       "      <td>2</td>\n",
       "      <td>3</td>\n",
       "      <td>5.6</td>\n",
       "      <td>6.8</td>\n",
       "      <td>7.2</td>\n",
       "      <td>7.5</td>\n",
       "      <td>4.3</td>\n",
       "      <td>7.4</td>\n",
       "      <td>5.8</td>\n",
       "      <td>3.2</td>\n",
       "      <td>...</td>\n",
       "      <td>5.77</td>\n",
       "      <td>5.38</td>\n",
       "      <td>4.33</td>\n",
       "      <td>TB</td>\n",
       "      <td>TB</td>\n",
       "      <td>Y</td>\n",
       "      <td>2.31</td>\n",
       "      <td>2.15</td>\n",
       "      <td>1.73</td>\n",
       "      <td>1.0</td>\n",
       "    </tr>\n",
       "    <tr>\n",
       "      <th>3</th>\n",
       "      <td>3</td>\n",
       "      <td>4</td>\n",
       "      <td>6.6</td>\n",
       "      <td>6.4</td>\n",
       "      <td>5.3</td>\n",
       "      <td>6.9</td>\n",
       "      <td>5.4</td>\n",
       "      <td>7.3</td>\n",
       "      <td>6.4</td>\n",
       "      <td>5.8</td>\n",
       "      <td>...</td>\n",
       "      <td>6.21</td>\n",
       "      <td>5.20</td>\n",
       "      <td>6.03</td>\n",
       "      <td>TB</td>\n",
       "      <td>TB</td>\n",
       "      <td>TB</td>\n",
       "      <td>2.48</td>\n",
       "      <td>2.08</td>\n",
       "      <td>2.41</td>\n",
       "      <td>0.0</td>\n",
       "    </tr>\n",
       "    <tr>\n",
       "      <th>4</th>\n",
       "      <td>4</td>\n",
       "      <td>5</td>\n",
       "      <td>6.0</td>\n",
       "      <td>5.0</td>\n",
       "      <td>6.0</td>\n",
       "      <td>7.3</td>\n",
       "      <td>6.5</td>\n",
       "      <td>7.7</td>\n",
       "      <td>7.9</td>\n",
       "      <td>6.1</td>\n",
       "      <td>...</td>\n",
       "      <td>6.50</td>\n",
       "      <td>6.36</td>\n",
       "      <td>7.01</td>\n",
       "      <td>K</td>\n",
       "      <td>TB</td>\n",
       "      <td>K</td>\n",
       "      <td>2.60</td>\n",
       "      <td>2.54</td>\n",
       "      <td>2.80</td>\n",
       "      <td>0.0</td>\n",
       "    </tr>\n",
       "    <tr>\n",
       "      <th>5</th>\n",
       "      <td>5</td>\n",
       "      <td>6</td>\n",
       "      <td>9.3</td>\n",
       "      <td>7.6</td>\n",
       "      <td>7.9</td>\n",
       "      <td>8.6</td>\n",
       "      <td>7.0</td>\n",
       "      <td>7.3</td>\n",
       "      <td>7.7</td>\n",
       "      <td>7.9</td>\n",
       "      <td>...</td>\n",
       "      <td>7.96</td>\n",
       "      <td>8.54</td>\n",
       "      <td>7.82</td>\n",
       "      <td>K</td>\n",
       "      <td>G</td>\n",
       "      <td>K</td>\n",
       "      <td>3.18</td>\n",
       "      <td>3.42</td>\n",
       "      <td>3.13</td>\n",
       "      <td>0.0</td>\n",
       "    </tr>\n",
       "    <tr>\n",
       "      <th>6</th>\n",
       "      <td>6</td>\n",
       "      <td>7</td>\n",
       "      <td>2.8</td>\n",
       "      <td>3.9</td>\n",
       "      <td>5.5</td>\n",
       "      <td>6.9</td>\n",
       "      <td>5.0</td>\n",
       "      <td>7.3</td>\n",
       "      <td>4.6</td>\n",
       "      <td>5.2</td>\n",
       "      <td>...</td>\n",
       "      <td>4.90</td>\n",
       "      <td>5.60</td>\n",
       "      <td>5.24</td>\n",
       "      <td>Y</td>\n",
       "      <td>TB</td>\n",
       "      <td>TB</td>\n",
       "      <td>1.96</td>\n",
       "      <td>2.24</td>\n",
       "      <td>2.10</td>\n",
       "      <td>1.0</td>\n",
       "    </tr>\n",
       "    <tr>\n",
       "      <th>7</th>\n",
       "      <td>7</td>\n",
       "      <td>8</td>\n",
       "      <td>8.3</td>\n",
       "      <td>6.0</td>\n",
       "      <td>7.6</td>\n",
       "      <td>5.1</td>\n",
       "      <td>7.5</td>\n",
       "      <td>4.7</td>\n",
       "      <td>5.8</td>\n",
       "      <td>7.2</td>\n",
       "      <td>...</td>\n",
       "      <td>6.80</td>\n",
       "      <td>6.87</td>\n",
       "      <td>6.95</td>\n",
       "      <td>K</td>\n",
       "      <td>K</td>\n",
       "      <td>K</td>\n",
       "      <td>2.72</td>\n",
       "      <td>2.75</td>\n",
       "      <td>2.78</td>\n",
       "      <td>0.0</td>\n",
       "    </tr>\n",
       "    <tr>\n",
       "      <th>8</th>\n",
       "      <td>8</td>\n",
       "      <td>9</td>\n",
       "      <td>6.5</td>\n",
       "      <td>6.3</td>\n",
       "      <td>7.6</td>\n",
       "      <td>6.0</td>\n",
       "      <td>5.5</td>\n",
       "      <td>7.1</td>\n",
       "      <td>6.3</td>\n",
       "      <td>5.0</td>\n",
       "      <td>...</td>\n",
       "      <td>6.23</td>\n",
       "      <td>6.72</td>\n",
       "      <td>6.59</td>\n",
       "      <td>TB</td>\n",
       "      <td>K</td>\n",
       "      <td>K</td>\n",
       "      <td>2.49</td>\n",
       "      <td>2.69</td>\n",
       "      <td>2.64</td>\n",
       "      <td>0.0</td>\n",
       "    </tr>\n",
       "    <tr>\n",
       "      <th>9</th>\n",
       "      <td>9</td>\n",
       "      <td>10</td>\n",
       "      <td>7.3</td>\n",
       "      <td>5.9</td>\n",
       "      <td>4.7</td>\n",
       "      <td>7.1</td>\n",
       "      <td>6.7</td>\n",
       "      <td>7.9</td>\n",
       "      <td>6.7</td>\n",
       "      <td>7.7</td>\n",
       "      <td>...</td>\n",
       "      <td>6.80</td>\n",
       "      <td>7.25</td>\n",
       "      <td>7.12</td>\n",
       "      <td>K</td>\n",
       "      <td>K</td>\n",
       "      <td>K</td>\n",
       "      <td>2.72</td>\n",
       "      <td>2.90</td>\n",
       "      <td>2.85</td>\n",
       "      <td>0.0</td>\n",
       "    </tr>\n",
       "  </tbody>\n",
       "</table>\n",
       "<p>10 rows × 67 columns</p>\n",
       "</div>"
      ],
      "text/plain": [
       "   Unnamed: 0  STT   T1   L1   H1   S1   V1   X1   D1   N1  ...  TBM1  TBM2  \\\n",
       "0           0    1  7.2  7.3  6.3  7.3  7.0  7.9  7.3  5.5  ...  7.00  7.54   \n",
       "1           1    2  5.4  3.9  3.9  4.0  5.4  5.4  5.3  2.8  ...  4.69  5.47   \n",
       "2           2    3  5.6  6.8  7.2  7.5  4.3  7.4  5.8  3.2  ...  5.77  5.38   \n",
       "3           3    4  6.6  6.4  5.3  6.9  5.4  7.3  6.4  5.8  ...  6.21  5.20   \n",
       "4           4    5  6.0  5.0  6.0  7.3  6.5  7.7  7.9  6.1  ...  6.50  6.36   \n",
       "5           5    6  9.3  7.6  7.9  8.6  7.0  7.3  7.7  7.9  ...  7.96  8.54   \n",
       "6           6    7  2.8  3.9  5.5  6.9  5.0  7.3  4.6  5.2  ...  4.90  5.60   \n",
       "7           7    8  8.3  6.0  7.6  5.1  7.5  4.7  5.8  7.2  ...  6.80  6.87   \n",
       "8           8    9  6.5  6.3  7.6  6.0  5.5  7.1  6.3  5.0  ...  6.23  6.72   \n",
       "9           9   10  7.3  5.9  4.7  7.1  6.7  7.9  6.7  7.7  ...  6.80  7.25   \n",
       "\n",
       "   TBM3  XL1  XL2  XL3  US_TBM1  US_TBM2  US_TBM3  KQXT  \n",
       "0  7.06    K    K    K     2.80     3.02     2.82   0.0  \n",
       "1  4.70    Y   TB    Y     1.88     2.19     1.88   0.0  \n",
       "2  4.33   TB   TB    Y     2.31     2.15     1.73   1.0  \n",
       "3  6.03   TB   TB   TB     2.48     2.08     2.41   0.0  \n",
       "4  7.01    K   TB    K     2.60     2.54     2.80   0.0  \n",
       "5  7.82    K    G    K     3.18     3.42     3.13   0.0  \n",
       "6  5.24    Y   TB   TB     1.96     2.24     2.10   1.0  \n",
       "7  6.95    K    K    K     2.72     2.75     2.78   0.0  \n",
       "8  6.59   TB    K    K     2.49     2.69     2.64   0.0  \n",
       "9  7.12    K    K    K     2.72     2.90     2.85   0.0  \n",
       "\n",
       "[10 rows x 67 columns]"
      ]
     },
     "execution_count": 3,
     "metadata": {},
     "output_type": "execute_result"
    }
   ],
   "source": [
    "df = pd.read_csv('processed_dulieuxettuyendaihoc.csv')\n",
    "df.head(10)"
   ]
  },
  {
   "cell_type": "markdown",
   "id": "16aeb6fa",
   "metadata": {},
   "source": [
    "# Bai 1"
   ]
  },
  {
   "cell_type": "code",
   "execution_count": 3,
   "id": "9992050d",
   "metadata": {},
   "outputs": [
    {
     "data": {
      "text/plain": [
       "53    1.00\n",
       "43    1.25\n",
       "72    1.50\n",
       "5     1.50\n",
       "87    1.75\n",
       "      ... \n",
       "84    6.50\n",
       "11    6.75\n",
       "23    6.75\n",
       "24    7.00\n",
       "97    7.00\n",
       "Name: DH1, Length: 100, dtype: float64"
      ]
     },
     "execution_count": 3,
     "metadata": {},
     "output_type": "execute_result"
    }
   ],
   "source": [
    "df_col = df[\"DH1\"].sort_values(axis = 0) # sort_values là hàm sắp xếp giá trị trong cột\n",
    "df_col"
   ]
  },
  {
   "cell_type": "markdown",
   "id": "f7e657d9",
   "metadata": {},
   "source": [
    "# Bai 2"
   ]
  },
  {
   "cell_type": "code",
   "execution_count": 4,
   "id": "d22d0e2e",
   "metadata": {},
   "outputs": [
    {
     "data": {
      "text/html": [
       "<div>\n",
       "<style scoped>\n",
       "    .dataframe tbody tr th:only-of-type {\n",
       "        vertical-align: middle;\n",
       "    }\n",
       "\n",
       "    .dataframe tbody tr th {\n",
       "        vertical-align: top;\n",
       "    }\n",
       "\n",
       "    .dataframe thead th {\n",
       "        text-align: right;\n",
       "    }\n",
       "</style>\n",
       "<table border=\"1\" class=\"dataframe\">\n",
       "  <thead>\n",
       "    <tr style=\"text-align: right;\">\n",
       "      <th></th>\n",
       "      <th>Unnamed: 0</th>\n",
       "      <th>STT</th>\n",
       "      <th>T1</th>\n",
       "      <th>L1</th>\n",
       "      <th>H1</th>\n",
       "      <th>S1</th>\n",
       "      <th>V1</th>\n",
       "      <th>X1</th>\n",
       "      <th>D1</th>\n",
       "      <th>N1</th>\n",
       "      <th>...</th>\n",
       "      <th>TBM1</th>\n",
       "      <th>TBM2</th>\n",
       "      <th>TBM3</th>\n",
       "      <th>XL1</th>\n",
       "      <th>XL2</th>\n",
       "      <th>XL3</th>\n",
       "      <th>US_TBM1</th>\n",
       "      <th>US_TBM2</th>\n",
       "      <th>US_TBM3</th>\n",
       "      <th>KQXT</th>\n",
       "    </tr>\n",
       "  </thead>\n",
       "  <tbody>\n",
       "    <tr>\n",
       "      <th>95</th>\n",
       "      <td>95</td>\n",
       "      <td>96</td>\n",
       "      <td>8.6</td>\n",
       "      <td>6.9</td>\n",
       "      <td>7.4</td>\n",
       "      <td>8.8</td>\n",
       "      <td>7.6</td>\n",
       "      <td>5.8</td>\n",
       "      <td>7.3</td>\n",
       "      <td>5.7</td>\n",
       "      <td>...</td>\n",
       "      <td>7.43</td>\n",
       "      <td>7.42</td>\n",
       "      <td>7.04</td>\n",
       "      <td>K</td>\n",
       "      <td>K</td>\n",
       "      <td>K</td>\n",
       "      <td>2.97</td>\n",
       "      <td>2.97</td>\n",
       "      <td>2.82</td>\n",
       "      <td>0.0</td>\n",
       "    </tr>\n",
       "    <tr>\n",
       "      <th>25</th>\n",
       "      <td>25</td>\n",
       "      <td>26</td>\n",
       "      <td>3.6</td>\n",
       "      <td>5.8</td>\n",
       "      <td>6.9</td>\n",
       "      <td>6.1</td>\n",
       "      <td>5.5</td>\n",
       "      <td>7.2</td>\n",
       "      <td>5.5</td>\n",
       "      <td>4.3</td>\n",
       "      <td>...</td>\n",
       "      <td>5.40</td>\n",
       "      <td>5.20</td>\n",
       "      <td>5.02</td>\n",
       "      <td>TB</td>\n",
       "      <td>TB</td>\n",
       "      <td>TB</td>\n",
       "      <td>2.16</td>\n",
       "      <td>2.08</td>\n",
       "      <td>2.01</td>\n",
       "      <td>0.0</td>\n",
       "    </tr>\n",
       "    <tr>\n",
       "      <th>24</th>\n",
       "      <td>24</td>\n",
       "      <td>25</td>\n",
       "      <td>2.4</td>\n",
       "      <td>4.1</td>\n",
       "      <td>3.6</td>\n",
       "      <td>5.5</td>\n",
       "      <td>5.9</td>\n",
       "      <td>5.6</td>\n",
       "      <td>4.9</td>\n",
       "      <td>4.2</td>\n",
       "      <td>...</td>\n",
       "      <td>4.45</td>\n",
       "      <td>4.88</td>\n",
       "      <td>5.31</td>\n",
       "      <td>Y</td>\n",
       "      <td>Y</td>\n",
       "      <td>TB</td>\n",
       "      <td>1.78</td>\n",
       "      <td>1.95</td>\n",
       "      <td>2.12</td>\n",
       "      <td>0.0</td>\n",
       "    </tr>\n",
       "    <tr>\n",
       "      <th>46</th>\n",
       "      <td>46</td>\n",
       "      <td>47</td>\n",
       "      <td>6.7</td>\n",
       "      <td>6.8</td>\n",
       "      <td>6.4</td>\n",
       "      <td>5.9</td>\n",
       "      <td>5.6</td>\n",
       "      <td>6.4</td>\n",
       "      <td>8.0</td>\n",
       "      <td>6.8</td>\n",
       "      <td>...</td>\n",
       "      <td>6.49</td>\n",
       "      <td>6.51</td>\n",
       "      <td>6.95</td>\n",
       "      <td>TB</td>\n",
       "      <td>K</td>\n",
       "      <td>K</td>\n",
       "      <td>2.60</td>\n",
       "      <td>2.60</td>\n",
       "      <td>2.78</td>\n",
       "      <td>0.0</td>\n",
       "    </tr>\n",
       "    <tr>\n",
       "      <th>13</th>\n",
       "      <td>13</td>\n",
       "      <td>14</td>\n",
       "      <td>4.9</td>\n",
       "      <td>5.4</td>\n",
       "      <td>5.0</td>\n",
       "      <td>5.0</td>\n",
       "      <td>5.8</td>\n",
       "      <td>7.0</td>\n",
       "      <td>4.2</td>\n",
       "      <td>5.8</td>\n",
       "      <td>...</td>\n",
       "      <td>5.38</td>\n",
       "      <td>5.51</td>\n",
       "      <td>5.69</td>\n",
       "      <td>TB</td>\n",
       "      <td>TB</td>\n",
       "      <td>TB</td>\n",
       "      <td>2.15</td>\n",
       "      <td>2.20</td>\n",
       "      <td>2.28</td>\n",
       "      <td>0.0</td>\n",
       "    </tr>\n",
       "    <tr>\n",
       "      <th>...</th>\n",
       "      <td>...</td>\n",
       "      <td>...</td>\n",
       "      <td>...</td>\n",
       "      <td>...</td>\n",
       "      <td>...</td>\n",
       "      <td>...</td>\n",
       "      <td>...</td>\n",
       "      <td>...</td>\n",
       "      <td>...</td>\n",
       "      <td>...</td>\n",
       "      <td>...</td>\n",
       "      <td>...</td>\n",
       "      <td>...</td>\n",
       "      <td>...</td>\n",
       "      <td>...</td>\n",
       "      <td>...</td>\n",
       "      <td>...</td>\n",
       "      <td>...</td>\n",
       "      <td>...</td>\n",
       "      <td>...</td>\n",
       "      <td>...</td>\n",
       "    </tr>\n",
       "    <tr>\n",
       "      <th>68</th>\n",
       "      <td>68</td>\n",
       "      <td>69</td>\n",
       "      <td>7.3</td>\n",
       "      <td>6.4</td>\n",
       "      <td>6.9</td>\n",
       "      <td>7.5</td>\n",
       "      <td>6.2</td>\n",
       "      <td>8.4</td>\n",
       "      <td>7.6</td>\n",
       "      <td>8.1</td>\n",
       "      <td>...</td>\n",
       "      <td>7.19</td>\n",
       "      <td>7.70</td>\n",
       "      <td>7.84</td>\n",
       "      <td>K</td>\n",
       "      <td>K</td>\n",
       "      <td>K</td>\n",
       "      <td>2.88</td>\n",
       "      <td>3.08</td>\n",
       "      <td>3.14</td>\n",
       "      <td>1.0</td>\n",
       "    </tr>\n",
       "    <tr>\n",
       "      <th>11</th>\n",
       "      <td>11</td>\n",
       "      <td>12</td>\n",
       "      <td>7.9</td>\n",
       "      <td>7.0</td>\n",
       "      <td>9.1</td>\n",
       "      <td>8.6</td>\n",
       "      <td>6.1</td>\n",
       "      <td>7.0</td>\n",
       "      <td>5.6</td>\n",
       "      <td>9.0</td>\n",
       "      <td>...</td>\n",
       "      <td>7.43</td>\n",
       "      <td>7.72</td>\n",
       "      <td>7.49</td>\n",
       "      <td>K</td>\n",
       "      <td>K</td>\n",
       "      <td>K</td>\n",
       "      <td>2.97</td>\n",
       "      <td>3.09</td>\n",
       "      <td>3.00</td>\n",
       "      <td>1.0</td>\n",
       "    </tr>\n",
       "    <tr>\n",
       "      <th>47</th>\n",
       "      <td>47</td>\n",
       "      <td>48</td>\n",
       "      <td>7.9</td>\n",
       "      <td>7.6</td>\n",
       "      <td>8.4</td>\n",
       "      <td>8.6</td>\n",
       "      <td>6.2</td>\n",
       "      <td>7.5</td>\n",
       "      <td>8.7</td>\n",
       "      <td>7.7</td>\n",
       "      <td>...</td>\n",
       "      <td>7.67</td>\n",
       "      <td>7.49</td>\n",
       "      <td>7.26</td>\n",
       "      <td>K</td>\n",
       "      <td>K</td>\n",
       "      <td>K</td>\n",
       "      <td>3.07</td>\n",
       "      <td>3.00</td>\n",
       "      <td>2.90</td>\n",
       "      <td>1.0</td>\n",
       "    </tr>\n",
       "    <tr>\n",
       "      <th>2</th>\n",
       "      <td>2</td>\n",
       "      <td>3</td>\n",
       "      <td>5.6</td>\n",
       "      <td>6.8</td>\n",
       "      <td>7.2</td>\n",
       "      <td>7.5</td>\n",
       "      <td>4.3</td>\n",
       "      <td>7.4</td>\n",
       "      <td>5.8</td>\n",
       "      <td>3.2</td>\n",
       "      <td>...</td>\n",
       "      <td>5.77</td>\n",
       "      <td>5.38</td>\n",
       "      <td>4.33</td>\n",
       "      <td>TB</td>\n",
       "      <td>TB</td>\n",
       "      <td>Y</td>\n",
       "      <td>2.31</td>\n",
       "      <td>2.15</td>\n",
       "      <td>1.73</td>\n",
       "      <td>1.0</td>\n",
       "    </tr>\n",
       "    <tr>\n",
       "      <th>97</th>\n",
       "      <td>97</td>\n",
       "      <td>98</td>\n",
       "      <td>8.8</td>\n",
       "      <td>5.5</td>\n",
       "      <td>7.4</td>\n",
       "      <td>7.7</td>\n",
       "      <td>6.2</td>\n",
       "      <td>7.3</td>\n",
       "      <td>8.1</td>\n",
       "      <td>4.5</td>\n",
       "      <td>...</td>\n",
       "      <td>7.05</td>\n",
       "      <td>7.84</td>\n",
       "      <td>7.92</td>\n",
       "      <td>K</td>\n",
       "      <td>K</td>\n",
       "      <td>K</td>\n",
       "      <td>2.82</td>\n",
       "      <td>3.14</td>\n",
       "      <td>3.17</td>\n",
       "      <td>1.0</td>\n",
       "    </tr>\n",
       "  </tbody>\n",
       "</table>\n",
       "<p>100 rows × 67 columns</p>\n",
       "</div>"
      ],
      "text/plain": [
       "    Unnamed: 0  STT   T1   L1   H1   S1   V1   X1   D1   N1  ...  TBM1  TBM2  \\\n",
       "95          95   96  8.6  6.9  7.4  8.8  7.6  5.8  7.3  5.7  ...  7.43  7.42   \n",
       "25          25   26  3.6  5.8  6.9  6.1  5.5  7.2  5.5  4.3  ...  5.40  5.20   \n",
       "24          24   25  2.4  4.1  3.6  5.5  5.9  5.6  4.9  4.2  ...  4.45  4.88   \n",
       "46          46   47  6.7  6.8  6.4  5.9  5.6  6.4  8.0  6.8  ...  6.49  6.51   \n",
       "13          13   14  4.9  5.4  5.0  5.0  5.8  7.0  4.2  5.8  ...  5.38  5.51   \n",
       "..         ...  ...  ...  ...  ...  ...  ...  ...  ...  ...  ...   ...   ...   \n",
       "68          68   69  7.3  6.4  6.9  7.5  6.2  8.4  7.6  8.1  ...  7.19  7.70   \n",
       "11          11   12  7.9  7.0  9.1  8.6  6.1  7.0  5.6  9.0  ...  7.43  7.72   \n",
       "47          47   48  7.9  7.6  8.4  8.6  6.2  7.5  8.7  7.7  ...  7.67  7.49   \n",
       "2            2    3  5.6  6.8  7.2  7.5  4.3  7.4  5.8  3.2  ...  5.77  5.38   \n",
       "97          97   98  8.8  5.5  7.4  7.7  6.2  7.3  8.1  4.5  ...  7.05  7.84   \n",
       "\n",
       "    TBM3  XL1  XL2  XL3  US_TBM1  US_TBM2  US_TBM3  KQXT  \n",
       "95  7.04    K    K    K     2.97     2.97     2.82   0.0  \n",
       "25  5.02   TB   TB   TB     2.16     2.08     2.01   0.0  \n",
       "24  5.31    Y    Y   TB     1.78     1.95     2.12   0.0  \n",
       "46  6.95   TB    K    K     2.60     2.60     2.78   0.0  \n",
       "13  5.69   TB   TB   TB     2.15     2.20     2.28   0.0  \n",
       "..   ...  ...  ...  ...      ...      ...      ...   ...  \n",
       "68  7.84    K    K    K     2.88     3.08     3.14   1.0  \n",
       "11  7.49    K    K    K     2.97     3.09     3.00   1.0  \n",
       "47  7.26    K    K    K     3.07     3.00     2.90   1.0  \n",
       "2   4.33   TB   TB    Y     2.31     2.15     1.73   1.0  \n",
       "97  7.92    K    K    K     2.82     3.14     3.17   1.0  \n",
       "\n",
       "[100 rows x 67 columns]"
      ]
     },
     "execution_count": 4,
     "metadata": {},
     "output_type": "execute_result"
    }
   ],
   "source": [
    "df.sort_values(by = [\"GT\", \"DH2\"])"
   ]
  },
  {
   "cell_type": "markdown",
   "id": "e6dbf670",
   "metadata": {},
   "source": [
    "# Bai 3"
   ]
  },
  {
   "cell_type": "code",
   "execution_count": 5,
   "id": "32e2ada9",
   "metadata": {},
   "outputs": [],
   "source": [
    "def Q1(g):\n",
    "    return np.percentile(g, 25)\n",
    "\n",
    "def Q2(g):\n",
    "    return np.percentile(g, 50)\n",
    "\n",
    "def Q3(g):\n",
    "    return np.percentile(g, 75)\n",
    "\n",
    "def std(g):\n",
    "    return np.std(g)"
   ]
  },
  {
   "cell_type": "code",
   "execution_count": 6,
   "id": "92d56da7",
   "metadata": {},
   "outputs": [
    {
     "data": {
      "text/html": [
       "<div>\n",
       "<style scoped>\n",
       "    .dataframe tbody tr th:only-of-type {\n",
       "        vertical-align: middle;\n",
       "    }\n",
       "\n",
       "    .dataframe tbody tr th {\n",
       "        vertical-align: top;\n",
       "    }\n",
       "\n",
       "    .dataframe thead tr th {\n",
       "        text-align: left;\n",
       "    }\n",
       "\n",
       "    .dataframe thead tr:last-of-type th {\n",
       "        text-align: right;\n",
       "    }\n",
       "</style>\n",
       "<table border=\"1\" class=\"dataframe\">\n",
       "  <thead>\n",
       "    <tr>\n",
       "      <th></th>\n",
       "      <th>sum</th>\n",
       "      <th>mean</th>\n",
       "      <th>median</th>\n",
       "      <th>min</th>\n",
       "      <th>max</th>\n",
       "      <th>std</th>\n",
       "      <th>Q1</th>\n",
       "      <th>Q2</th>\n",
       "      <th>Q3</th>\n",
       "    </tr>\n",
       "    <tr>\n",
       "      <th></th>\n",
       "      <th>DH1</th>\n",
       "      <th>DH1</th>\n",
       "      <th>DH1</th>\n",
       "      <th>DH1</th>\n",
       "      <th>DH1</th>\n",
       "      <th>DH1</th>\n",
       "      <th>DH1</th>\n",
       "      <th>DH1</th>\n",
       "      <th>DH1</th>\n",
       "    </tr>\n",
       "    <tr>\n",
       "      <th>KT</th>\n",
       "      <th></th>\n",
       "      <th></th>\n",
       "      <th></th>\n",
       "      <th></th>\n",
       "      <th></th>\n",
       "      <th></th>\n",
       "      <th></th>\n",
       "      <th></th>\n",
       "      <th></th>\n",
       "    </tr>\n",
       "  </thead>\n",
       "  <tbody>\n",
       "    <tr>\n",
       "      <th>A</th>\n",
       "      <td>163.50</td>\n",
       "      <td>3.336735</td>\n",
       "      <td>3.25</td>\n",
       "      <td>1.00</td>\n",
       "      <td>6.50</td>\n",
       "      <td>1.261226</td>\n",
       "      <td>2.2500</td>\n",
       "      <td>3.25</td>\n",
       "      <td>4.250</td>\n",
       "    </tr>\n",
       "    <tr>\n",
       "      <th>A1</th>\n",
       "      <td>17.50</td>\n",
       "      <td>2.916667</td>\n",
       "      <td>3.00</td>\n",
       "      <td>2.00</td>\n",
       "      <td>4.25</td>\n",
       "      <td>0.786165</td>\n",
       "      <td>2.1875</td>\n",
       "      <td>3.00</td>\n",
       "      <td>3.250</td>\n",
       "    </tr>\n",
       "    <tr>\n",
       "      <th>B</th>\n",
       "      <td>29.50</td>\n",
       "      <td>3.277778</td>\n",
       "      <td>3.50</td>\n",
       "      <td>1.75</td>\n",
       "      <td>4.50</td>\n",
       "      <td>0.776785</td>\n",
       "      <td>3.2500</td>\n",
       "      <td>3.50</td>\n",
       "      <td>3.750</td>\n",
       "    </tr>\n",
       "    <tr>\n",
       "      <th>C</th>\n",
       "      <td>79.25</td>\n",
       "      <td>5.660714</td>\n",
       "      <td>5.25</td>\n",
       "      <td>4.75</td>\n",
       "      <td>7.00</td>\n",
       "      <td>0.782665</td>\n",
       "      <td>5.0625</td>\n",
       "      <td>5.25</td>\n",
       "      <td>6.375</td>\n",
       "    </tr>\n",
       "    <tr>\n",
       "      <th>D1</th>\n",
       "      <td>84.25</td>\n",
       "      <td>3.829545</td>\n",
       "      <td>3.75</td>\n",
       "      <td>1.25</td>\n",
       "      <td>6.75</td>\n",
       "      <td>1.338644</td>\n",
       "      <td>3.0000</td>\n",
       "      <td>3.75</td>\n",
       "      <td>4.875</td>\n",
       "    </tr>\n",
       "  </tbody>\n",
       "</table>\n",
       "</div>"
      ],
      "text/plain": [
       "       sum      mean median   min   max       std      Q1    Q2     Q3\n",
       "       DH1       DH1    DH1   DH1   DH1       DH1     DH1   DH1    DH1\n",
       "KT                                                                    \n",
       "A   163.50  3.336735   3.25  1.00  6.50  1.261226  2.2500  3.25  4.250\n",
       "A1   17.50  2.916667   3.00  2.00  4.25  0.786165  2.1875  3.00  3.250\n",
       "B    29.50  3.277778   3.50  1.75  4.50  0.776785  3.2500  3.50  3.750\n",
       "C    79.25  5.660714   5.25  4.75  7.00  0.782665  5.0625  5.25  6.375\n",
       "D1   84.25  3.829545   3.75  1.25  6.75  1.338644  3.0000  3.75  4.875"
      ]
     },
     "execution_count": 6,
     "metadata": {},
     "output_type": "execute_result"
    }
   ],
   "source": [
    "pd.pivot_table(data = df, index = [\"KT\"], values = \"DH1\", aggfunc = ['sum', 'mean', 'median', 'min', 'max', std, Q1, Q2, Q3])"
   ]
  },
  {
   "cell_type": "code",
   "execution_count": 7,
   "id": "7c8fe2cb",
   "metadata": {},
   "outputs": [
    {
     "data": {
      "text/html": [
       "<div>\n",
       "<style scoped>\n",
       "    .dataframe tbody tr th:only-of-type {\n",
       "        vertical-align: middle;\n",
       "    }\n",
       "\n",
       "    .dataframe tbody tr th {\n",
       "        vertical-align: top;\n",
       "    }\n",
       "\n",
       "    .dataframe thead tr th {\n",
       "        text-align: left;\n",
       "    }\n",
       "\n",
       "    .dataframe thead tr:last-of-type th {\n",
       "        text-align: right;\n",
       "    }\n",
       "</style>\n",
       "<table border=\"1\" class=\"dataframe\">\n",
       "  <thead>\n",
       "    <tr>\n",
       "      <th></th>\n",
       "      <th></th>\n",
       "      <th>sum</th>\n",
       "      <th>mean</th>\n",
       "      <th>median</th>\n",
       "      <th>min</th>\n",
       "      <th>max</th>\n",
       "      <th>std</th>\n",
       "      <th>Q1</th>\n",
       "      <th>Q2</th>\n",
       "      <th>Q3</th>\n",
       "    </tr>\n",
       "    <tr>\n",
       "      <th></th>\n",
       "      <th></th>\n",
       "      <th>DH1</th>\n",
       "      <th>DH1</th>\n",
       "      <th>DH1</th>\n",
       "      <th>DH1</th>\n",
       "      <th>DH1</th>\n",
       "      <th>DH1</th>\n",
       "      <th>DH1</th>\n",
       "      <th>DH1</th>\n",
       "      <th>DH1</th>\n",
       "    </tr>\n",
       "    <tr>\n",
       "      <th>KT</th>\n",
       "      <th>KV</th>\n",
       "      <th></th>\n",
       "      <th></th>\n",
       "      <th></th>\n",
       "      <th></th>\n",
       "      <th></th>\n",
       "      <th></th>\n",
       "      <th></th>\n",
       "      <th></th>\n",
       "      <th></th>\n",
       "    </tr>\n",
       "  </thead>\n",
       "  <tbody>\n",
       "    <tr>\n",
       "      <th rowspan=\"3\" valign=\"top\">A</th>\n",
       "      <th>1</th>\n",
       "      <td>93.75</td>\n",
       "      <td>3.232759</td>\n",
       "      <td>3.250</td>\n",
       "      <td>1.00</td>\n",
       "      <td>6.50</td>\n",
       "      <td>1.345380</td>\n",
       "      <td>2.0000</td>\n",
       "      <td>3.250</td>\n",
       "      <td>4.2500</td>\n",
       "    </tr>\n",
       "    <tr>\n",
       "      <th>2</th>\n",
       "      <td>31.75</td>\n",
       "      <td>3.527778</td>\n",
       "      <td>3.500</td>\n",
       "      <td>2.00</td>\n",
       "      <td>6.25</td>\n",
       "      <td>1.346005</td>\n",
       "      <td>2.2500</td>\n",
       "      <td>3.500</td>\n",
       "      <td>4.2500</td>\n",
       "    </tr>\n",
       "    <tr>\n",
       "      <th>2NT</th>\n",
       "      <td>38.00</td>\n",
       "      <td>3.454545</td>\n",
       "      <td>3.500</td>\n",
       "      <td>2.00</td>\n",
       "      <td>4.75</td>\n",
       "      <td>0.871377</td>\n",
       "      <td>2.8750</td>\n",
       "      <td>3.500</td>\n",
       "      <td>4.1250</td>\n",
       "    </tr>\n",
       "    <tr>\n",
       "      <th rowspan=\"2\" valign=\"top\">A1</th>\n",
       "      <th>1</th>\n",
       "      <td>4.75</td>\n",
       "      <td>2.375000</td>\n",
       "      <td>2.375</td>\n",
       "      <td>2.00</td>\n",
       "      <td>2.75</td>\n",
       "      <td>0.375000</td>\n",
       "      <td>2.1875</td>\n",
       "      <td>2.375</td>\n",
       "      <td>2.5625</td>\n",
       "    </tr>\n",
       "    <tr>\n",
       "      <th>2NT</th>\n",
       "      <td>12.75</td>\n",
       "      <td>3.187500</td>\n",
       "      <td>3.250</td>\n",
       "      <td>2.00</td>\n",
       "      <td>4.25</td>\n",
       "      <td>0.797947</td>\n",
       "      <td>2.9375</td>\n",
       "      <td>3.250</td>\n",
       "      <td>3.5000</td>\n",
       "    </tr>\n",
       "    <tr>\n",
       "      <th rowspan=\"2\" valign=\"top\">B</th>\n",
       "      <th>1</th>\n",
       "      <td>25.75</td>\n",
       "      <td>3.218750</td>\n",
       "      <td>3.375</td>\n",
       "      <td>1.75</td>\n",
       "      <td>4.50</td>\n",
       "      <td>0.804650</td>\n",
       "      <td>3.0000</td>\n",
       "      <td>3.375</td>\n",
       "      <td>3.5625</td>\n",
       "    </tr>\n",
       "    <tr>\n",
       "      <th>2NT</th>\n",
       "      <td>3.75</td>\n",
       "      <td>3.750000</td>\n",
       "      <td>3.750</td>\n",
       "      <td>3.75</td>\n",
       "      <td>3.75</td>\n",
       "      <td>0.000000</td>\n",
       "      <td>3.7500</td>\n",
       "      <td>3.750</td>\n",
       "      <td>3.7500</td>\n",
       "    </tr>\n",
       "    <tr>\n",
       "      <th rowspan=\"3\" valign=\"top\">C</th>\n",
       "      <th>1</th>\n",
       "      <td>43.50</td>\n",
       "      <td>5.437500</td>\n",
       "      <td>5.250</td>\n",
       "      <td>4.75</td>\n",
       "      <td>7.00</td>\n",
       "      <td>0.681795</td>\n",
       "      <td>5.0000</td>\n",
       "      <td>5.250</td>\n",
       "      <td>5.4375</td>\n",
       "    </tr>\n",
       "    <tr>\n",
       "      <th>2</th>\n",
       "      <td>11.50</td>\n",
       "      <td>5.750000</td>\n",
       "      <td>5.750</td>\n",
       "      <td>5.00</td>\n",
       "      <td>6.50</td>\n",
       "      <td>0.750000</td>\n",
       "      <td>5.3750</td>\n",
       "      <td>5.750</td>\n",
       "      <td>6.1250</td>\n",
       "    </tr>\n",
       "    <tr>\n",
       "      <th>2NT</th>\n",
       "      <td>24.25</td>\n",
       "      <td>6.062500</td>\n",
       "      <td>6.000</td>\n",
       "      <td>5.25</td>\n",
       "      <td>7.00</td>\n",
       "      <td>0.817294</td>\n",
       "      <td>5.2500</td>\n",
       "      <td>6.000</td>\n",
       "      <td>6.8125</td>\n",
       "    </tr>\n",
       "    <tr>\n",
       "      <th rowspan=\"3\" valign=\"top\">D1</th>\n",
       "      <th>1</th>\n",
       "      <td>46.75</td>\n",
       "      <td>3.596154</td>\n",
       "      <td>3.500</td>\n",
       "      <td>1.50</td>\n",
       "      <td>5.75</td>\n",
       "      <td>1.215044</td>\n",
       "      <td>2.7500</td>\n",
       "      <td>3.500</td>\n",
       "      <td>4.2500</td>\n",
       "    </tr>\n",
       "    <tr>\n",
       "      <th>2</th>\n",
       "      <td>33.75</td>\n",
       "      <td>4.218750</td>\n",
       "      <td>4.500</td>\n",
       "      <td>1.25</td>\n",
       "      <td>6.75</td>\n",
       "      <td>1.512642</td>\n",
       "      <td>3.5625</td>\n",
       "      <td>4.500</td>\n",
       "      <td>5.0000</td>\n",
       "    </tr>\n",
       "    <tr>\n",
       "      <th>2NT</th>\n",
       "      <td>3.75</td>\n",
       "      <td>3.750000</td>\n",
       "      <td>3.750</td>\n",
       "      <td>3.75</td>\n",
       "      <td>3.75</td>\n",
       "      <td>0.000000</td>\n",
       "      <td>3.7500</td>\n",
       "      <td>3.750</td>\n",
       "      <td>3.7500</td>\n",
       "    </tr>\n",
       "  </tbody>\n",
       "</table>\n",
       "</div>"
      ],
      "text/plain": [
       "          sum      mean median   min   max       std      Q1     Q2      Q3\n",
       "          DH1       DH1    DH1   DH1   DH1       DH1     DH1    DH1     DH1\n",
       "KT KV                                                                      \n",
       "A  1    93.75  3.232759  3.250  1.00  6.50  1.345380  2.0000  3.250  4.2500\n",
       "   2    31.75  3.527778  3.500  2.00  6.25  1.346005  2.2500  3.500  4.2500\n",
       "   2NT  38.00  3.454545  3.500  2.00  4.75  0.871377  2.8750  3.500  4.1250\n",
       "A1 1     4.75  2.375000  2.375  2.00  2.75  0.375000  2.1875  2.375  2.5625\n",
       "   2NT  12.75  3.187500  3.250  2.00  4.25  0.797947  2.9375  3.250  3.5000\n",
       "B  1    25.75  3.218750  3.375  1.75  4.50  0.804650  3.0000  3.375  3.5625\n",
       "   2NT   3.75  3.750000  3.750  3.75  3.75  0.000000  3.7500  3.750  3.7500\n",
       "C  1    43.50  5.437500  5.250  4.75  7.00  0.681795  5.0000  5.250  5.4375\n",
       "   2    11.50  5.750000  5.750  5.00  6.50  0.750000  5.3750  5.750  6.1250\n",
       "   2NT  24.25  6.062500  6.000  5.25  7.00  0.817294  5.2500  6.000  6.8125\n",
       "D1 1    46.75  3.596154  3.500  1.50  5.75  1.215044  2.7500  3.500  4.2500\n",
       "   2    33.75  4.218750  4.500  1.25  6.75  1.512642  3.5625  4.500  5.0000\n",
       "   2NT   3.75  3.750000  3.750  3.75  3.75  0.000000  3.7500  3.750  3.7500"
      ]
     },
     "execution_count": 7,
     "metadata": {},
     "output_type": "execute_result"
    }
   ],
   "source": [
    "pd.pivot_table(data = df, index = [\"KT\", \"KV\"], values = \"DH1\", aggfunc = ['sum', 'mean', 'median', 'min', 'max', std, Q1, Q2, Q3])"
   ]
  },
  {
   "cell_type": "code",
   "execution_count": 8,
   "id": "8e126f38",
   "metadata": {},
   "outputs": [
    {
     "data": {
      "text/html": [
       "<div>\n",
       "<style scoped>\n",
       "    .dataframe tbody tr th:only-of-type {\n",
       "        vertical-align: middle;\n",
       "    }\n",
       "\n",
       "    .dataframe tbody tr th {\n",
       "        vertical-align: top;\n",
       "    }\n",
       "\n",
       "    .dataframe thead tr th {\n",
       "        text-align: left;\n",
       "    }\n",
       "\n",
       "    .dataframe thead tr:last-of-type th {\n",
       "        text-align: right;\n",
       "    }\n",
       "</style>\n",
       "<table border=\"1\" class=\"dataframe\">\n",
       "  <thead>\n",
       "    <tr>\n",
       "      <th></th>\n",
       "      <th></th>\n",
       "      <th></th>\n",
       "      <th>sum</th>\n",
       "      <th>mean</th>\n",
       "      <th>median</th>\n",
       "      <th>min</th>\n",
       "      <th>max</th>\n",
       "      <th>std</th>\n",
       "      <th>Q1</th>\n",
       "      <th>Q2</th>\n",
       "      <th>Q3</th>\n",
       "    </tr>\n",
       "    <tr>\n",
       "      <th></th>\n",
       "      <th></th>\n",
       "      <th></th>\n",
       "      <th>DH1</th>\n",
       "      <th>DH1</th>\n",
       "      <th>DH1</th>\n",
       "      <th>DH1</th>\n",
       "      <th>DH1</th>\n",
       "      <th>DH1</th>\n",
       "      <th>DH1</th>\n",
       "      <th>DH1</th>\n",
       "      <th>DH1</th>\n",
       "    </tr>\n",
       "    <tr>\n",
       "      <th>KT</th>\n",
       "      <th>KV</th>\n",
       "      <th>DT</th>\n",
       "      <th></th>\n",
       "      <th></th>\n",
       "      <th></th>\n",
       "      <th></th>\n",
       "      <th></th>\n",
       "      <th></th>\n",
       "      <th></th>\n",
       "      <th></th>\n",
       "      <th></th>\n",
       "    </tr>\n",
       "  </thead>\n",
       "  <tbody>\n",
       "    <tr>\n",
       "      <th rowspan=\"4\" valign=\"top\">A</th>\n",
       "      <th>1</th>\n",
       "      <th>0.0</th>\n",
       "      <td>93.75</td>\n",
       "      <td>3.232759</td>\n",
       "      <td>3.250</td>\n",
       "      <td>1.00</td>\n",
       "      <td>6.50</td>\n",
       "      <td>1.345380</td>\n",
       "      <td>2.0000</td>\n",
       "      <td>3.250</td>\n",
       "      <td>4.2500</td>\n",
       "    </tr>\n",
       "    <tr>\n",
       "      <th rowspan=\"2\" valign=\"top\">2</th>\n",
       "      <th>0.0</th>\n",
       "      <td>27.50</td>\n",
       "      <td>3.437500</td>\n",
       "      <td>3.000</td>\n",
       "      <td>2.00</td>\n",
       "      <td>6.25</td>\n",
       "      <td>1.401729</td>\n",
       "      <td>2.2500</td>\n",
       "      <td>3.000</td>\n",
       "      <td>4.1875</td>\n",
       "    </tr>\n",
       "    <tr>\n",
       "      <th>6.0</th>\n",
       "      <td>4.25</td>\n",
       "      <td>4.250000</td>\n",
       "      <td>4.250</td>\n",
       "      <td>4.25</td>\n",
       "      <td>4.25</td>\n",
       "      <td>0.000000</td>\n",
       "      <td>4.2500</td>\n",
       "      <td>4.250</td>\n",
       "      <td>4.2500</td>\n",
       "    </tr>\n",
       "    <tr>\n",
       "      <th>2NT</th>\n",
       "      <th>0.0</th>\n",
       "      <td>38.00</td>\n",
       "      <td>3.454545</td>\n",
       "      <td>3.500</td>\n",
       "      <td>2.00</td>\n",
       "      <td>4.75</td>\n",
       "      <td>0.871377</td>\n",
       "      <td>2.8750</td>\n",
       "      <td>3.500</td>\n",
       "      <td>4.1250</td>\n",
       "    </tr>\n",
       "    <tr>\n",
       "      <th rowspan=\"2\" valign=\"top\">A1</th>\n",
       "      <th>1</th>\n",
       "      <th>0.0</th>\n",
       "      <td>4.75</td>\n",
       "      <td>2.375000</td>\n",
       "      <td>2.375</td>\n",
       "      <td>2.00</td>\n",
       "      <td>2.75</td>\n",
       "      <td>0.375000</td>\n",
       "      <td>2.1875</td>\n",
       "      <td>2.375</td>\n",
       "      <td>2.5625</td>\n",
       "    </tr>\n",
       "    <tr>\n",
       "      <th>2NT</th>\n",
       "      <th>0.0</th>\n",
       "      <td>12.75</td>\n",
       "      <td>3.187500</td>\n",
       "      <td>3.250</td>\n",
       "      <td>2.00</td>\n",
       "      <td>4.25</td>\n",
       "      <td>0.797947</td>\n",
       "      <td>2.9375</td>\n",
       "      <td>3.250</td>\n",
       "      <td>3.5000</td>\n",
       "    </tr>\n",
       "    <tr>\n",
       "      <th rowspan=\"2\" valign=\"top\">B</th>\n",
       "      <th>1</th>\n",
       "      <th>0.0</th>\n",
       "      <td>25.75</td>\n",
       "      <td>3.218750</td>\n",
       "      <td>3.375</td>\n",
       "      <td>1.75</td>\n",
       "      <td>4.50</td>\n",
       "      <td>0.804650</td>\n",
       "      <td>3.0000</td>\n",
       "      <td>3.375</td>\n",
       "      <td>3.5625</td>\n",
       "    </tr>\n",
       "    <tr>\n",
       "      <th>2NT</th>\n",
       "      <th>0.0</th>\n",
       "      <td>3.75</td>\n",
       "      <td>3.750000</td>\n",
       "      <td>3.750</td>\n",
       "      <td>3.75</td>\n",
       "      <td>3.75</td>\n",
       "      <td>0.000000</td>\n",
       "      <td>3.7500</td>\n",
       "      <td>3.750</td>\n",
       "      <td>3.7500</td>\n",
       "    </tr>\n",
       "    <tr>\n",
       "      <th rowspan=\"3\" valign=\"top\">C</th>\n",
       "      <th>1</th>\n",
       "      <th>0.0</th>\n",
       "      <td>43.50</td>\n",
       "      <td>5.437500</td>\n",
       "      <td>5.250</td>\n",
       "      <td>4.75</td>\n",
       "      <td>7.00</td>\n",
       "      <td>0.681795</td>\n",
       "      <td>5.0000</td>\n",
       "      <td>5.250</td>\n",
       "      <td>5.4375</td>\n",
       "    </tr>\n",
       "    <tr>\n",
       "      <th>2</th>\n",
       "      <th>0.0</th>\n",
       "      <td>11.50</td>\n",
       "      <td>5.750000</td>\n",
       "      <td>5.750</td>\n",
       "      <td>5.00</td>\n",
       "      <td>6.50</td>\n",
       "      <td>0.750000</td>\n",
       "      <td>5.3750</td>\n",
       "      <td>5.750</td>\n",
       "      <td>6.1250</td>\n",
       "    </tr>\n",
       "    <tr>\n",
       "      <th>2NT</th>\n",
       "      <th>0.0</th>\n",
       "      <td>24.25</td>\n",
       "      <td>6.062500</td>\n",
       "      <td>6.000</td>\n",
       "      <td>5.25</td>\n",
       "      <td>7.00</td>\n",
       "      <td>0.817294</td>\n",
       "      <td>5.2500</td>\n",
       "      <td>6.000</td>\n",
       "      <td>6.8125</td>\n",
       "    </tr>\n",
       "    <tr>\n",
       "      <th rowspan=\"5\" valign=\"top\">D1</th>\n",
       "      <th rowspan=\"2\" valign=\"top\">1</th>\n",
       "      <th>0.0</th>\n",
       "      <td>43.75</td>\n",
       "      <td>3.645833</td>\n",
       "      <td>3.625</td>\n",
       "      <td>1.50</td>\n",
       "      <td>5.75</td>\n",
       "      <td>1.251908</td>\n",
       "      <td>2.6875</td>\n",
       "      <td>3.625</td>\n",
       "      <td>4.4375</td>\n",
       "    </tr>\n",
       "    <tr>\n",
       "      <th>1.0</th>\n",
       "      <td>3.00</td>\n",
       "      <td>3.000000</td>\n",
       "      <td>3.000</td>\n",
       "      <td>3.00</td>\n",
       "      <td>3.00</td>\n",
       "      <td>0.000000</td>\n",
       "      <td>3.0000</td>\n",
       "      <td>3.000</td>\n",
       "      <td>3.0000</td>\n",
       "    </tr>\n",
       "    <tr>\n",
       "      <th rowspan=\"2\" valign=\"top\">2</th>\n",
       "      <th>0.0</th>\n",
       "      <td>32.50</td>\n",
       "      <td>4.642857</td>\n",
       "      <td>4.500</td>\n",
       "      <td>3.00</td>\n",
       "      <td>6.75</td>\n",
       "      <td>1.084445</td>\n",
       "      <td>4.1250</td>\n",
       "      <td>4.500</td>\n",
       "      <td>5.0000</td>\n",
       "    </tr>\n",
       "    <tr>\n",
       "      <th>1.0</th>\n",
       "      <td>1.25</td>\n",
       "      <td>1.250000</td>\n",
       "      <td>1.250</td>\n",
       "      <td>1.25</td>\n",
       "      <td>1.25</td>\n",
       "      <td>0.000000</td>\n",
       "      <td>1.2500</td>\n",
       "      <td>1.250</td>\n",
       "      <td>1.2500</td>\n",
       "    </tr>\n",
       "    <tr>\n",
       "      <th>2NT</th>\n",
       "      <th>0.0</th>\n",
       "      <td>3.75</td>\n",
       "      <td>3.750000</td>\n",
       "      <td>3.750</td>\n",
       "      <td>3.75</td>\n",
       "      <td>3.75</td>\n",
       "      <td>0.000000</td>\n",
       "      <td>3.7500</td>\n",
       "      <td>3.750</td>\n",
       "      <td>3.7500</td>\n",
       "    </tr>\n",
       "  </tbody>\n",
       "</table>\n",
       "</div>"
      ],
      "text/plain": [
       "              sum      mean median   min   max       std      Q1     Q2  \\\n",
       "              DH1       DH1    DH1   DH1   DH1       DH1     DH1    DH1   \n",
       "KT KV  DT                                                                 \n",
       "A  1   0.0  93.75  3.232759  3.250  1.00  6.50  1.345380  2.0000  3.250   \n",
       "   2   0.0  27.50  3.437500  3.000  2.00  6.25  1.401729  2.2500  3.000   \n",
       "       6.0   4.25  4.250000  4.250  4.25  4.25  0.000000  4.2500  4.250   \n",
       "   2NT 0.0  38.00  3.454545  3.500  2.00  4.75  0.871377  2.8750  3.500   \n",
       "A1 1   0.0   4.75  2.375000  2.375  2.00  2.75  0.375000  2.1875  2.375   \n",
       "   2NT 0.0  12.75  3.187500  3.250  2.00  4.25  0.797947  2.9375  3.250   \n",
       "B  1   0.0  25.75  3.218750  3.375  1.75  4.50  0.804650  3.0000  3.375   \n",
       "   2NT 0.0   3.75  3.750000  3.750  3.75  3.75  0.000000  3.7500  3.750   \n",
       "C  1   0.0  43.50  5.437500  5.250  4.75  7.00  0.681795  5.0000  5.250   \n",
       "   2   0.0  11.50  5.750000  5.750  5.00  6.50  0.750000  5.3750  5.750   \n",
       "   2NT 0.0  24.25  6.062500  6.000  5.25  7.00  0.817294  5.2500  6.000   \n",
       "D1 1   0.0  43.75  3.645833  3.625  1.50  5.75  1.251908  2.6875  3.625   \n",
       "       1.0   3.00  3.000000  3.000  3.00  3.00  0.000000  3.0000  3.000   \n",
       "   2   0.0  32.50  4.642857  4.500  3.00  6.75  1.084445  4.1250  4.500   \n",
       "       1.0   1.25  1.250000  1.250  1.25  1.25  0.000000  1.2500  1.250   \n",
       "   2NT 0.0   3.75  3.750000  3.750  3.75  3.75  0.000000  3.7500  3.750   \n",
       "\n",
       "                Q3  \n",
       "               DH1  \n",
       "KT KV  DT           \n",
       "A  1   0.0  4.2500  \n",
       "   2   0.0  4.1875  \n",
       "       6.0  4.2500  \n",
       "   2NT 0.0  4.1250  \n",
       "A1 1   0.0  2.5625  \n",
       "   2NT 0.0  3.5000  \n",
       "B  1   0.0  3.5625  \n",
       "   2NT 0.0  3.7500  \n",
       "C  1   0.0  5.4375  \n",
       "   2   0.0  6.1250  \n",
       "   2NT 0.0  6.8125  \n",
       "D1 1   0.0  4.4375  \n",
       "       1.0  3.0000  \n",
       "   2   0.0  5.0000  \n",
       "       1.0  1.2500  \n",
       "   2NT 0.0  3.7500  "
      ]
     },
     "execution_count": 8,
     "metadata": {},
     "output_type": "execute_result"
    }
   ],
   "source": [
    "pd.pivot_table(data = df, index = [\"KT\", \"KV\", \"DT\"], values = \"DH1\", aggfunc = ['sum', 'mean', 'median', 'min', 'max', std, Q1, Q2, Q3])\n",
    "# pivot table là bảng để chúng ta có thể xem được tính tổng quan của dữ liệu, tổng hợp dữ liệu"
   ]
  },
  {
   "cell_type": "markdown",
   "id": "57c0fd63",
   "metadata": {},
   "source": [
    "# Phan 2"
   ]
  },
  {
   "cell_type": "markdown",
   "id": "496b0dc7",
   "metadata": {},
   "source": [
    "# Bai 1"
   ]
  },
  {
   "cell_type": "code",
   "execution_count": 9,
   "id": "5ffec323",
   "metadata": {},
   "outputs": [
    {
     "data": {
      "text/plain": [
       "<Axes: xlabel='GT'>"
      ]
     },
     "execution_count": 9,
     "metadata": {},
     "output_type": "execute_result"
    },
    {
     "data": {
      "image/png": "[encoded data removed]",
      "text/plain": [
       "<Figure size 640x480 with 1 Axes>"
      ]
     },
     "metadata": {},
     "output_type": "display_data"
    }
   ],
   "source": [
    "gt = df.groupby(\"GT\")[\"GT\"].agg(\"count\")\n",
    "gt.plot.bar() # groupby theo cột GT và sử dụng plot bar để vẽ biểu đồ"
   ]
  },
  {
   "cell_type": "code",
   "execution_count": 10,
   "id": "772647b1",
   "metadata": {},
   "outputs": [
    {
     "data": {
      "image/png": "[encoded data removed]",
      "text/plain": [
       "<Figure size 640x480 with 1 Axes>"
      ]
     },
     "metadata": {},
     "output_type": "display_data"
    }
   ],
   "source": [
    "x = np.array([\"F\", \"M\"])\n",
    "y = np.array([gt[\"F\"], gt[\"M\"]])\n",
    "color = [\"pink\", \"black\"]\n",
    "plt.pie(y, labels = x, colors = color)\n",
    "plt.legend()\n",
    "plt.show()\n",
    "# dùng thư viện matplotlib để vẽ biểu đồ tròn và lấy 2 giá trị gồm F và M"
   ]
  },
  {
   "cell_type": "code",
   "execution_count": 11,
   "id": "adc9863f",
   "metadata": {},
   "outputs": [
    {
     "data": {
      "text/html": [
       "<div>\n",
       "<style scoped>\n",
       "    .dataframe tbody tr th:only-of-type {\n",
       "        vertical-align: middle;\n",
       "    }\n",
       "\n",
       "    .dataframe tbody tr th {\n",
       "        vertical-align: top;\n",
       "    }\n",
       "\n",
       "    .dataframe thead th {\n",
       "        text-align: right;\n",
       "    }\n",
       "</style>\n",
       "<table border=\"1\" class=\"dataframe\">\n",
       "  <thead>\n",
       "    <tr style=\"text-align: right;\">\n",
       "      <th></th>\n",
       "      <th>US_TBM1</th>\n",
       "      <th>US_TBM2</th>\n",
       "      <th>US_TBM3</th>\n",
       "    </tr>\n",
       "  </thead>\n",
       "  <tbody>\n",
       "    <tr>\n",
       "      <th>count</th>\n",
       "      <td>100.000000</td>\n",
       "      <td>100.00000</td>\n",
       "      <td>100.00000</td>\n",
       "    </tr>\n",
       "    <tr>\n",
       "      <th>mean</th>\n",
       "      <td>2.434800</td>\n",
       "      <td>2.55970</td>\n",
       "      <td>2.53820</td>\n",
       "    </tr>\n",
       "    <tr>\n",
       "      <th>std</th>\n",
       "      <td>0.391063</td>\n",
       "      <td>0.37808</td>\n",
       "      <td>0.37654</td>\n",
       "    </tr>\n",
       "    <tr>\n",
       "      <th>min</th>\n",
       "      <td>1.620000</td>\n",
       "      <td>1.77000</td>\n",
       "      <td>1.51000</td>\n",
       "    </tr>\n",
       "    <tr>\n",
       "      <th>25%</th>\n",
       "      <td>2.107500</td>\n",
       "      <td>2.22500</td>\n",
       "      <td>2.25750</td>\n",
       "    </tr>\n",
       "    <tr>\n",
       "      <th>50%</th>\n",
       "      <td>2.480000</td>\n",
       "      <td>2.59000</td>\n",
       "      <td>2.56500</td>\n",
       "    </tr>\n",
       "    <tr>\n",
       "      <th>75%</th>\n",
       "      <td>2.720000</td>\n",
       "      <td>2.89250</td>\n",
       "      <td>2.81250</td>\n",
       "    </tr>\n",
       "    <tr>\n",
       "      <th>max</th>\n",
       "      <td>3.230000</td>\n",
       "      <td>3.42000</td>\n",
       "      <td>3.24000</td>\n",
       "    </tr>\n",
       "  </tbody>\n",
       "</table>\n",
       "</div>"
      ],
      "text/plain": [
       "          US_TBM1    US_TBM2    US_TBM3\n",
       "count  100.000000  100.00000  100.00000\n",
       "mean     2.434800    2.55970    2.53820\n",
       "std      0.391063    0.37808    0.37654\n",
       "min      1.620000    1.77000    1.51000\n",
       "25%      2.107500    2.22500    2.25750\n",
       "50%      2.480000    2.59000    2.56500\n",
       "75%      2.720000    2.89250    2.81250\n",
       "max      3.230000    3.42000    3.24000"
      ]
     },
     "execution_count": 11,
     "metadata": {},
     "output_type": "execute_result"
    }
   ],
   "source": [
    "new_df = pd.DataFrame(df, columns = [\"US_TBM1\", \"US_TBM2\", \"US_TBM3\"])\n",
    "new_df.describe()\n",
    "# describe dùng để hiển thị thông tin của data frame gồm các thông số: count, mean, median, std, ..."
   ]
  },
  {
   "cell_type": "code",
   "execution_count": 12,
   "id": "b93543e3",
   "metadata": {},
   "outputs": [
    {
     "data": {
      "text/plain": [
       "DT\n",
       "0.0    50\n",
       "1.0     1\n",
       "6.0     1\n",
       "Name: DT, dtype: int64"
      ]
     },
     "execution_count": 12,
     "metadata": {},
     "output_type": "execute_result"
    }
   ],
   "source": [
    "tmp = df[df[\"GT\"] == \"M\"]\n",
    "male = tmp.groupby(\"DT\")[\"DT\"].agg(\"count\") # lọc cột GT là M và groupby theo DT xong sau đó dùng hàm count để đếm\n",
    "male"
   ]
  },
  {
   "cell_type": "code",
   "execution_count": 61,
   "id": "1dfa6ca5",
   "metadata": {},
   "outputs": [
    {
     "data": {
      "text/plain": [
       "KV\n",
       "1      2\n",
       "2      2\n",
       "2NT    2\n",
       "Name: KV, dtype: int64"
      ]
     },
     "execution_count": 61,
     "metadata": {},
     "output_type": "execute_result"
    }
   ],
   "source": [
    "gr = df[(df[\"GT\"] == 'M') & (df[\"DT\"] == 0) & (df['DH1'] >= 5.0) & (df[\"DH2\"] >= 4.0) & (df[\"DH3\"] >= 4.0)]\n",
    "gr.groupby(\"KV\")[\"KV\"].agg(\"count\") # lọc điều kiện phù hợp và groupby theo cột KV và dùng hàm count để đếm."
   ]
  },
  {
   "cell_type": "code",
   "execution_count": 26,
   "id": "4920af44",
   "metadata": {},
   "outputs": [
    {
     "data": {
      "text/html": [
       "<div>\n",
       "<style scoped>\n",
       "    .dataframe tbody tr th:only-of-type {\n",
       "        vertical-align: middle;\n",
       "    }\n",
       "\n",
       "    .dataframe tbody tr th {\n",
       "        vertical-align: top;\n",
       "    }\n",
       "\n",
       "    .dataframe thead th {\n",
       "        text-align: right;\n",
       "    }\n",
       "</style>\n",
       "<table border=\"1\" class=\"dataframe\">\n",
       "  <thead>\n",
       "    <tr style=\"text-align: right;\">\n",
       "      <th></th>\n",
       "      <th></th>\n",
       "      <th></th>\n",
       "      <th>DH1</th>\n",
       "      <th>DH2</th>\n",
       "      <th>DH3</th>\n",
       "    </tr>\n",
       "    <tr>\n",
       "      <th>DH1</th>\n",
       "      <th>DH2</th>\n",
       "      <th>DH3</th>\n",
       "      <th></th>\n",
       "      <th></th>\n",
       "      <th></th>\n",
       "    </tr>\n",
       "  </thead>\n",
       "  <tbody>\n",
       "    <tr>\n",
       "      <th>6.75</th>\n",
       "      <th>5.25</th>\n",
       "      <th>5.0</th>\n",
       "      <td>1</td>\n",
       "      <td>1</td>\n",
       "      <td>1</td>\n",
       "    </tr>\n",
       "  </tbody>\n",
       "</table>\n",
       "</div>"
      ],
      "text/plain": [
       "               DH1  DH2  DH3\n",
       "DH1  DH2  DH3               \n",
       "6.75 5.25 5.0    1    1    1"
      ]
     },
     "execution_count": 26,
     "metadata": {},
     "output_type": "execute_result"
    }
   ],
   "source": [
    "tmp = df[(df[\"DH1\"] >= 5.0) & (df[\"DH2\"] >= 5.0) & (df[\"DH3\"] >= 5.0) & (df[\"KV\"] == \"2NT\")]\n",
    "tmp.groupby([\"DH1\", \"DH2\", \"DH3\"])[[\"DH1\", \"DH2\", \"DH3\"]].count()"
   ]
  },
  {
   "cell_type": "markdown",
   "id": "279638eb",
   "metadata": {},
   "source": [
    "# Phan 3"
   ]
  },
  {
   "cell_type": "markdown",
   "id": "a1204c64",
   "metadata": {},
   "source": [
    "# Bai 1"
   ]
  },
  {
   "cell_type": "code",
   "execution_count": 17,
   "id": "a2bd52ad",
   "metadata": {},
   "outputs": [
    {
     "data": {
      "text/html": [
       "<div>\n",
       "<style scoped>\n",
       "    .dataframe tbody tr th:only-of-type {\n",
       "        vertical-align: middle;\n",
       "    }\n",
       "\n",
       "    .dataframe tbody tr th {\n",
       "        vertical-align: top;\n",
       "    }\n",
       "\n",
       "    .dataframe thead tr th {\n",
       "        text-align: left;\n",
       "    }\n",
       "\n",
       "    .dataframe thead tr:last-of-type th {\n",
       "        text-align: right;\n",
       "    }\n",
       "</style>\n",
       "<table border=\"1\" class=\"dataframe\">\n",
       "  <thead>\n",
       "    <tr>\n",
       "      <th></th>\n",
       "      <th></th>\n",
       "      <th colspan=\"4\" halign=\"left\">GT</th>\n",
       "    </tr>\n",
       "    <tr>\n",
       "      <th></th>\n",
       "      <th>XL3</th>\n",
       "      <th>G</th>\n",
       "      <th>K</th>\n",
       "      <th>TB</th>\n",
       "      <th>Y</th>\n",
       "    </tr>\n",
       "    <tr>\n",
       "      <th>XL1</th>\n",
       "      <th>XL2</th>\n",
       "      <th></th>\n",
       "      <th></th>\n",
       "      <th></th>\n",
       "      <th></th>\n",
       "    </tr>\n",
       "  </thead>\n",
       "  <tbody>\n",
       "    <tr>\n",
       "      <th>G</th>\n",
       "      <th>G</th>\n",
       "      <td>1.0</td>\n",
       "      <td>NaN</td>\n",
       "      <td>NaN</td>\n",
       "      <td>NaN</td>\n",
       "    </tr>\n",
       "    <tr>\n",
       "      <th rowspan=\"3\" valign=\"top\">K</th>\n",
       "      <th>G</th>\n",
       "      <td>NaN</td>\n",
       "      <td>1.0</td>\n",
       "      <td>NaN</td>\n",
       "      <td>NaN</td>\n",
       "    </tr>\n",
       "    <tr>\n",
       "      <th>K</th>\n",
       "      <td>NaN</td>\n",
       "      <td>20.0</td>\n",
       "      <td>1.0</td>\n",
       "      <td>NaN</td>\n",
       "    </tr>\n",
       "    <tr>\n",
       "      <th>TB</th>\n",
       "      <td>NaN</td>\n",
       "      <td>NaN</td>\n",
       "      <td>2.0</td>\n",
       "      <td>NaN</td>\n",
       "    </tr>\n",
       "    <tr>\n",
       "      <th rowspan=\"2\" valign=\"top\">TB</th>\n",
       "      <th>K</th>\n",
       "      <td>NaN</td>\n",
       "      <td>6.0</td>\n",
       "      <td>3.0</td>\n",
       "      <td>NaN</td>\n",
       "    </tr>\n",
       "    <tr>\n",
       "      <th>TB</th>\n",
       "      <td>NaN</td>\n",
       "      <td>1.0</td>\n",
       "      <td>8.0</td>\n",
       "      <td>NaN</td>\n",
       "    </tr>\n",
       "    <tr>\n",
       "      <th rowspan=\"2\" valign=\"top\">Y</th>\n",
       "      <th>TB</th>\n",
       "      <td>NaN</td>\n",
       "      <td>NaN</td>\n",
       "      <td>3.0</td>\n",
       "      <td>1.0</td>\n",
       "    </tr>\n",
       "    <tr>\n",
       "      <th>Y</th>\n",
       "      <td>NaN</td>\n",
       "      <td>NaN</td>\n",
       "      <td>1.0</td>\n",
       "      <td>NaN</td>\n",
       "    </tr>\n",
       "  </tbody>\n",
       "</table>\n",
       "</div>"
      ],
      "text/plain": [
       "          GT                \n",
       "XL3        G     K   TB    Y\n",
       "XL1 XL2                     \n",
       "G   G    1.0   NaN  NaN  NaN\n",
       "K   G    NaN   1.0  NaN  NaN\n",
       "    K    NaN  20.0  1.0  NaN\n",
       "    TB   NaN   NaN  2.0  NaN\n",
       "TB  K    NaN   6.0  3.0  NaN\n",
       "    TB   NaN   1.0  8.0  NaN\n",
       "Y   TB   NaN   NaN  3.0  1.0\n",
       "    Y    NaN   NaN  1.0  NaN"
      ]
     },
     "execution_count": 17,
     "metadata": {},
     "output_type": "execute_result"
    }
   ],
   "source": [
    "# data unstacked\n",
    "df_sex = df[df[\"GT\"] == 'F']\n",
    "df_xl1 = df_sex.groupby(\"XL1\")[\"XL1\"].agg('count')\n",
    "df_xl2 = df_sex.groupby(\"XL2\")[\"XL2\"].agg('count')\n",
    "df_xl3 = df_sex.groupby(\"XL3\")[\"XL3\"].agg('count')\n",
    "df_xl = df_sex.groupby([\"XL1\", \"XL2\", \"XL3\"])[[\"GT\"]].count()\n",
    "df_xl.unstack() # hiển thị dữ liệu unstack"
   ]
  },
  {
   "cell_type": "code",
   "execution_count": 19,
   "id": "2ecf7503",
   "metadata": {},
   "outputs": [
    {
     "data": {
      "text/plain": [
       "<Axes: xlabel='XL1,XL2,XL3'>"
      ]
     },
     "execution_count": 19,
     "metadata": {},
     "output_type": "execute_result"
    },
    {
     "data": {
      "image/png": "[encoded data removed]",
      "text/plain": [
       "<Figure size 640x480 with 1 Axes>"
      ]
     },
     "metadata": {},
     "output_type": "display_data"
    }
   ],
   "source": [
    "df_xl.plot.bar()\n",
    "# dùng hàm plot bar để visualize dữ liệu"
   ]
  },
  {
   "cell_type": "markdown",
   "id": "2d31ea3a",
   "metadata": {},
   "source": [
    "# Bai 2"
   ]
  },
  {
   "cell_type": "code",
   "execution_count": 68,
   "id": "973def75",
   "metadata": {},
   "outputs": [
    {
     "data": {
      "text/plain": [
       "<Axes: >"
      ]
     },
     "execution_count": 68,
     "metadata": {},
     "output_type": "execute_result"
    },
    {
     "data": {
      "image/png": "[encoded data removed]",
      "text/plain": [
       "<Figure size 640x480 with 1 Axes>"
      ]
     },
     "metadata": {},
     "output_type": "display_data"
    }
   ],
   "source": [
    "df_constraint = df[((df[\"KT\"] == 'A') | (df[\"KT\"] == 'A1') | (df['KT'] == 'B')) & ((df[\"KV\"] == '1') | (df['KV'] == '2'))]\n",
    "df_constraint[\"KQXT\"].plot.bar()\n",
    "# lọc điều kiện trên data frame xong sau đó dùng hàm plot để vẽ."
   ]
  },
  {
   "cell_type": "markdown",
   "id": "b4de00b2",
   "metadata": {},
   "source": [
    "# Bai 3"
   ]
  },
  {
   "cell_type": "code",
   "execution_count": 46,
   "id": "a132ef2f",
   "metadata": {},
   "outputs": [
    {
     "data": {
      "text/plain": [
       "<Axes: title={'center': 'So luong thi sinh dua tren khoi thi A'}, xlabel='KV'>"
      ]
     },
     "execution_count": 46,
     "metadata": {},
     "output_type": "execute_result"
    },
    {
     "data": {
      "image/png": "[encoded data removed]",
      "text/plain": [
       "<Figure size 640x480 with 1 Axes>"
      ]
     },
     "metadata": {},
     "output_type": "display_data"
    }
   ],
   "source": [
    "df_A = df[df['KT'] == 'A']\n",
    "df_A1 = df[df['KT'] == 'A1']\n",
    "df_B = df[df['KT'] == 'B']\n",
    "df_C = df[df['KT'] == 'C']\n",
    "df_D1 = df[df['KT'] == 'D1']\n",
    "plt.title(\"So luong thi sinh dua tren khoi thi A\")\n",
    "df_A.groupby(\"KV\")[\"KV\"].agg('count').plot.bar()\n",
    "# hiển thị số lượng thí sinh từng khu vực dựa trên khối A"
   ]
  },
  {
   "cell_type": "code",
   "execution_count": 41,
   "id": "c6c824ca",
   "metadata": {},
   "outputs": [
    {
     "data": {
      "text/plain": [
       "<Axes: title={'center': 'So luong thi sinh dua tren khoi thi A1'}, xlabel='KV'>"
      ]
     },
     "execution_count": 41,
     "metadata": {},
     "output_type": "execute_result"
    },
    {
     "data": {
      "image/png": "[encoded data removed]",
      "text/plain": [
       "<Figure size 640x480 with 1 Axes>"
      ]
     },
     "metadata": {},
     "output_type": "display_data"
    }
   ],
   "source": [
    "plt.title(\"So luong thi sinh dua tren khoi thi A1\")\n",
    "df_A1.groupby(\"KV\")['KV'].agg('count').plot.bar()\n",
    "# hiển thị số lượng thí sinh từng khu vực dựa trên khối A1"
   ]
  },
  {
   "cell_type": "code",
   "execution_count": 42,
   "id": "2eddc78f",
   "metadata": {},
   "outputs": [
    {
     "data": {
      "text/plain": [
       "<Axes: title={'center': 'So luong thi sinh dua tren khoi thi B'}, xlabel='KV'>"
      ]
     },
     "execution_count": 42,
     "metadata": {},
     "output_type": "execute_result"
    },
    {
     "data": {
      "image/png": "[encoded data removed]",
      "text/plain": [
       "<Figure size 640x480 with 1 Axes>"
      ]
     },
     "metadata": {},
     "output_type": "display_data"
    }
   ],
   "source": [
    "plt.title(\"So luong thi sinh dua tren khoi thi B\")\n",
    "df_B.groupby(\"KV\")['KV'].agg('count').plot.bar()\n",
    "# hiển thị số lượng thí sinh từng khu vực dựa trên khối B"
   ]
  },
  {
   "cell_type": "code",
   "execution_count": 43,
   "id": "9f77a73a",
   "metadata": {},
   "outputs": [
    {
     "data": {
      "text/plain": [
       "<Axes: title={'center': 'So luong thi sinh dua tren khoi thi C'}, xlabel='KV'>"
      ]
     },
     "execution_count": 43,
     "metadata": {},
     "output_type": "execute_result"
    },
    {
     "data": {
      "image/png": "[encoded data removed]",
      "text/plain": [
       "<Figure size 640x480 with 1 Axes>"
      ]
     },
     "metadata": {},
     "output_type": "display_data"
    }
   ],
   "source": [
    "plt.title(\"So luong thi sinh dua tren khoi thi C\")\n",
    "df_C.groupby(\"KV\")['KV'].agg('count').plot.bar()\n",
    "# hiển thị số lượng thí sinh từng khu vực dựa trên khối C"
   ]
  },
  {
   "cell_type": "code",
   "execution_count": 44,
   "id": "23ab5d38",
   "metadata": {},
   "outputs": [
    {
     "data": {
      "text/plain": [
       "<Axes: title={'center': 'So luong thi sinh dua tren khoi thi D1'}, xlabel='KV'>"
      ]
     },
     "execution_count": 44,
     "metadata": {},
     "output_type": "execute_result"
    },
    {
     "data": {
      "image/png": "[encoded data removed]",
      "text/plain": [
       "<Figure size 640x480 with 1 Axes>"
      ]
     },
     "metadata": {},
     "output_type": "display_data"
    }
   ],
   "source": [
    "plt.title(\"So luong thi sinh dua tren khoi thi D1\")\n",
    "df_D1.groupby(\"KV\")['KV'].agg('count').plot.bar()\n",
    "# hiển thị số lượng thí sinh từng khu vực dựa trên khối D1"
   ]
  },
  {
   "cell_type": "code",
   "execution_count": 47,
   "id": "1d80af9e",
   "metadata": {},
   "outputs": [
    {
     "data": {
      "text/plain": [
       "<Axes: title={'center': 'So luong thi sinh dau tren tung khoi thi'}, xlabel='KT'>"
      ]
     },
     "execution_count": 47,
     "metadata": {},
     "output_type": "execute_result"
    },
    {
     "data": {
      "image/png": "[encoded data removed]",
      "text/plain": [
       "<Figure size 640x480 with 1 Axes>"
      ]
     },
     "metadata": {},
     "output_type": "display_data"
    }
   ],
   "source": [
    "df_ok = df[df[\"KQXT\"] == 1.0]\n",
    "df_not_ok = df[df[\"KQXT\"] == 0.0]\n",
    "plt.title(\"So luong thi sinh dau tren tung khoi thi\")\n",
    "df_ok.groupby(\"KT\")[\"KT\"].agg('count').plot.bar()\n",
    "# hiển thị số lượng thí sinh đậu trên từng khối thi"
   ]
  },
  {
   "cell_type": "code",
   "execution_count": 48,
   "id": "46d82238",
   "metadata": {},
   "outputs": [
    {
     "data": {
      "text/plain": [
       "<Axes: title={'center': 'So luong thi sinh rot tren tung khoi thi'}, xlabel='KT'>"
      ]
     },
     "execution_count": 48,
     "metadata": {},
     "output_type": "execute_result"
    },
    {
     "data": {
      "image/png": "[encoded data removed]",
      "text/plain": [
       "<Figure size 640x480 with 1 Axes>"
      ]
     },
     "metadata": {},
     "output_type": "display_data"
    }
   ],
   "source": [
    "plt.title(\"So luong thi sinh rot tren tung khoi thi\")\n",
    "df_not_ok.groupby(\"KT\")['KT'].agg('count').plot.bar()\n",
    "# hiển thị số lượng thí sinh rớt trên từng khối thi"
   ]
  },
  {
   "cell_type": "code",
   "execution_count": 50,
   "id": "cf9c40bd",
   "metadata": {},
   "outputs": [
    {
     "data": {
      "text/plain": [
       "<Axes: title={'center': 'So luong thi sinh dau tren tung khu vuc'}, xlabel='KV'>"
      ]
     },
     "execution_count": 50,
     "metadata": {},
     "output_type": "execute_result"
    },
    {
     "data": {
      "image/png": "[encoded data removed]",
      "text/plain": [
       "<Figure size 640x480 with 1 Axes>"
      ]
     },
     "metadata": {},
     "output_type": "display_data"
    }
   ],
   "source": [
    "df_ok = df[df[\"KQXT\"] == 1.0]\n",
    "df_not_ok = df[df[\"KQXT\"] == 0.0]\n",
    "plt.title(\"So luong thi sinh dau tren tung khu vuc\")\n",
    "df_ok.groupby(\"KV\")[\"KV\"].agg('count').plot.bar()\n",
    "# hiển thị số lượng thí sinh đậu trên từng khu vực"
   ]
  },
  {
   "cell_type": "code",
   "execution_count": 49,
   "id": "6a6bee15",
   "metadata": {},
   "outputs": [
    {
     "data": {
      "text/plain": [
       "<Axes: title={'center': 'So luong thi sinh rot tren tung khu vuc'}, xlabel='KV'>"
      ]
     },
     "execution_count": 49,
     "metadata": {},
     "output_type": "execute_result"
    },
    {
     "data": {
      "image/png": "[encoded data removed]",
      "text/plain": [
       "<Figure size 640x480 with 1 Axes>"
      ]
     },
     "metadata": {},
     "output_type": "display_data"
    }
   ],
   "source": [
    "plt.title(\"So luong thi sinh rot tren tung khu vuc\")\n",
    "df_not_ok.groupby(\"KV\")[\"KV\"].agg('count').plot.bar()\n",
    "# hiển thị số lượng thí sinh rớt trên từng khu vực"
   ]
  },
  {
   "cell_type": "code",
   "execution_count": 55,
   "id": "e738f9d5",
   "metadata": {},
   "outputs": [
    {
     "data": {
      "text/plain": [
       "<Axes: title={'center': 'So luong thi sinh dau tren tung dan toc'}, xlabel='DT'>"
      ]
     },
     "execution_count": 55,
     "metadata": {},
     "output_type": "execute_result"
    },
    {
     "data": {
      "image/png": "[encoded data removed]",
      "text/plain": [
       "<Figure size 640x480 with 1 Axes>"
      ]
     },
     "metadata": {},
     "output_type": "display_data"
    }
   ],
   "source": [
    "df_ok = df[df[\"KQXT\"] == 1.0]\n",
    "plt.title(\"So luong thi sinh dau tren tung dan toc\")\n",
    "df_ok.groupby(\"DT\")[\"DT\"].agg('count').plot.bar()\n",
    "# hiển thị số lượng thí sinh đậu trên từng dân tộc"
   ]
  },
  {
   "cell_type": "code",
   "execution_count": 56,
   "id": "33244aed",
   "metadata": {},
   "outputs": [
    {
     "data": {
      "text/plain": [
       "<Axes: title={'center': 'So luong thi sinh rot tren tung dan toc'}, xlabel='DT'>"
      ]
     },
     "execution_count": 56,
     "metadata": {},
     "output_type": "execute_result"
    },
    {
     "data": {
      "image/png": "[encoded data removed]",
      "text/plain": [
       "<Figure size 640x480 with 1 Axes>"
      ]
     },
     "metadata": {},
     "output_type": "display_data"
    }
   ],
   "source": [
    "df_not_ok = df[df[\"KQXT\"] == 0.0]\n",
    "plt.title(\"So luong thi sinh rot tren tung dan toc\")\n",
    "df_not_ok.groupby(\"DT\")[\"DT\"].agg('count').plot.bar()\n",
    "# hiển thị số lượng thí sinh rớt trên từng dân tộc"
   ]
  },
  {
   "cell_type": "code",
   "execution_count": 54,
   "id": "a53cea0f",
   "metadata": {},
   "outputs": [
    {
     "data": {
      "text/plain": [
       "<Axes: title={'center': 'So luong thi sinh dau tren tung gioi tinh'}, xlabel='GT'>"
      ]
     },
     "execution_count": 54,
     "metadata": {},
     "output_type": "execute_result"
    },
    {
     "data": {
      "image/png": "[encoded data removed]",
      "text/plain": [
       "<Figure size 640x480 with 1 Axes>"
      ]
     },
     "metadata": {},
     "output_type": "display_data"
    }
   ],
   "source": [
    "df_ok = df[df[\"KQXT\"] == 1.0]\n",
    "plt.title(\"So luong thi sinh dau tren tung gioi tinh\")\n",
    "df_ok.groupby(\"GT\")[\"GT\"].agg('count').plot.bar()\n",
    "# hiển thị số lượng thí sinh đậu trên từng giới tính"
   ]
  },
  {
   "cell_type": "code",
   "execution_count": 53,
   "id": "91037e19",
   "metadata": {},
   "outputs": [
    {
     "data": {
      "text/plain": [
       "<Axes: title={'center': 'So luong thi sinh rot tren tung gioi tinh'}, xlabel='GT'>"
      ]
     },
     "execution_count": 53,
     "metadata": {},
     "output_type": "execute_result"
    },
    {
     "data": {
      "image/png": "[encoded data removed]",
      "text/plain": [
       "<Figure size 640x480 with 1 Axes>"
      ]
     },
     "metadata": {},
     "output_type": "display_data"
    }
   ],
   "source": [
    "df_not_ok = df[df[\"KQXT\"] == 0.0]\n",
    "plt.title(\"So luong thi sinh rot tren tung gioi tinh\")\n",
    "df_not_ok.groupby(\"GT\")[\"GT\"].agg('count').plot.bar()\n",
    "# hiển thị số lượng thí sinh rớt trên từng giới tính"
   ]
  },
  {
   "cell_type": "markdown",
   "id": "d7418aa8",
   "metadata": {},
   "source": [
    "# Phan 4"
   ]
  },
  {
   "cell_type": "code",
   "execution_count": 13,
   "id": "f9705a3d",
   "metadata": {},
   "outputs": [
    {
     "data": {
      "text/plain": [
       "<Axes: xlabel='T1'>"
      ]
     },
     "execution_count": 13,
     "metadata": {},
     "output_type": "execute_result"
    },
    {
     "data": {
      "image/png": "[encoded data removed]",
      "text/plain": [
       "<Figure size 640x480 with 1 Axes>"
      ]
     },
     "metadata": {},
     "output_type": "display_data"
    }
   ],
   "source": [
    "df.groupby(\"T1\")[\"T1\"].count().plot()\n",
    "# dùng hàm plot để vẽ biểu đồ đường"
   ]
  },
  {
   "cell_type": "code",
   "execution_count": 13,
   "id": "99e73109",
   "metadata": {},
   "outputs": [
    {
     "data": {
      "text/plain": [
       "<Axes: xlabel='T1'>"
      ]
     },
     "execution_count": 13,
     "metadata": {},
     "output_type": "execute_result"
    },
    {
     "data": {
      "image/png": "[encoded data removed]",
      "text/plain": [
       "<Figure size 640x480 with 1 Axes>"
      ]
     },
     "metadata": {},
     "output_type": "display_data"
    }
   ],
   "source": [
    "df_t1 = df[\"T1\"].values\n",
    "evaluate = []\n",
    "for val in df_t1:\n",
    "    if 0.0 <= val < 5.0: evaluate.append('kem')\n",
    "    elif 5.0 <= val < 7.0: evaluate.append('trung binh')\n",
    "    elif 7.0 <= val < 8.0: evaluate.append('kha')\n",
    "    elif 8.0 <= val <= 10.0: evaluate.append('gioi')\n",
    "df[\"PhanLoai1\"] = evaluate\n",
    "df_stack = df.groupby([\"T1\", \"PhanLoai1\"])[[\"T1\", \"PhanLoai1\"]].count()\n",
    "df_unstack = df_stack.unstack()\n",
    "df_unstack['PhanLoai1'].plot()\n",
    "# Tạo cột mới là PhanLoaiT1 xong sau đó groupby theo T1 và PhanLoaiT1 và rồi dùng hàm plot để visualize"
   ]
  },
  {
   "cell_type": "code",
   "execution_count": 14,
   "id": "1da39534",
   "metadata": {},
   "outputs": [
    {
     "data": {
      "text/plain": [
       "<Axes: xlabel='T1'>"
      ]
     },
     "execution_count": 14,
     "metadata": {},
     "output_type": "execute_result"
    },
    {
     "data": {
      "image/png": "[encoded data removed]",
      "text/plain": [
       "<Figure size 640x480 with 1 Axes>"
      ]
     },
     "metadata": {},
     "output_type": "display_data"
    }
   ],
   "source": [
    "df_unstack[\"PhanLoai1\"].plot.bar()\n",
    "# dùng hàm plot bar để visualize"
   ]
  },
  {
   "cell_type": "markdown",
   "id": "c3d21a97",
   "metadata": {},
   "source": [
    "# Phan 5"
   ]
  },
  {
   "cell_type": "code",
   "execution_count": 4,
   "id": "dc7fe2fc",
   "metadata": {},
   "outputs": [
    {
     "data": {
      "text/plain": [
       "count    100.000000\n",
       "mean       5.946000\n",
       "std        1.608338\n",
       "min        2.400000\n",
       "25%        5.000000\n",
       "50%        5.850000\n",
       "75%        7.200000\n",
       "max        9.300000\n",
       "Name: T1, dtype: float64"
      ]
     },
     "execution_count": 4,
     "metadata": {},
     "output_type": "execute_result"
    }
   ],
   "source": [
    "df_t1 = df[\"T1\"]\n",
    "df_t1.describe() # hàm describe dùng để hiển thị thông tin của 1 column"
   ]
  },
  {
   "cell_type": "code",
   "execution_count": 10,
   "id": "be76e2ad",
   "metadata": {},
   "outputs": [
    {
     "data": {
      "image/png": "[encoded data removed]",
      "text/plain": [
       "<Figure size 640x480 with 1 Axes>"
      ]
     },
     "metadata": {},
     "output_type": "display_data"
    }
   ],
   "source": [
    "sns.boxplot(x = df['T1']) # dùng hàm boxplot trong thư viện seaborn để visualize dữ liệu\n",
    "plt.title(\"Box Plot T1\")\n",
    "plt.show()"
   ]
  },
  {
   "cell_type": "code",
   "execution_count": 11,
   "id": "d25af46c",
   "metadata": {},
   "outputs": [
    {
     "data": {
      "image/png": "[encoded data removed]",
      "text/plain": [
       "<Figure size 640x480 with 1 Axes>"
      ]
     },
     "metadata": {},
     "output_type": "display_data"
    }
   ],
   "source": [
    "sns.histplot(df[\"T1\"], bins = 30, kde = True) # dùng hàm histplot trong thư viện seaborn để visualize dữ liệu\n",
    "plt.title(\"Histogram T1\")\n",
    "plt.show()"
   ]
  },
  {
   "cell_type": "code",
   "execution_count": 16,
   "id": "c1d7969d",
   "metadata": {},
   "outputs": [
    {
     "data": {
      "image/png": "[encoded data removed]",
      "text/plain": [
       "<Figure size 640x480 with 1 Axes>"
      ]
     },
     "metadata": {},
     "output_type": "display_data"
    }
   ],
   "source": [
    "sns.boxplot(x = 'PhanLoai1', y = 'T1', data = df)\n",
    "plt.title(\"Box Plot T1 by PhanLoai1\")\n",
    "plt.grid(True)\n",
    "plt.show()\n",
    "# dùng boxplot để visualize và truyền vào các tham số là cột PhanLoai1 và T1 để vẽ."
   ]
  },
  {
   "cell_type": "code",
   "execution_count": null,
   "id": "fcd4edc4",
   "metadata": {},
   "outputs": [],
   "source": []
  }
 ],
 "metadata": {
  "kernelspec": {
   "display_name": "Python 3 (ipykernel)",
   "language": "python",
   "name": "python3"
  },
  "language_info": {
   "codemirror_mode": {
    "name": "ipython",
    "version": 3
   },
   "file_extension": ".py",
   "mimetype": "text/x-python",
   "name": "python",
   "nbconvert_exporter": "python",
   "pygments_lexer": "ipython3",
   "version": "3.11.5"
  }
 },
 "nbformat": 4,
 "nbformat_minor": 5
}
